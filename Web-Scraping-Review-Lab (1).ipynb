{
 "cells": [
  {
   "cell_type": "markdown",
   "metadata": {},
   "source": [
    "<center>\n",
    "    <img src=\"https://gitlab.com/ibm/skills-network/courses/placeholder101/-/raw/master/labs/module%201/images/IDSNlogo.png\" width=\"300\" alt=\"cognitiveclass.ai logo\"  />\n",
    "</center>\n"
   ]
  },
  {
   "cell_type": "markdown",
   "metadata": {},
   "source": [
    "# **Web Scraping Lab**\n"
   ]
  },
  {
   "cell_type": "markdown",
   "metadata": {},
   "source": [
    "Estimated time needed: **30** minutes\n"
   ]
  },
  {
   "cell_type": "markdown",
   "metadata": {},
   "source": [
    "## Objectives\n"
   ]
  },
  {
   "cell_type": "markdown",
   "metadata": {},
   "source": [
    "After completing this lab you will be able to:\n"
   ]
  },
  {
   "cell_type": "markdown",
   "metadata": {},
   "source": [
    "*   Download a webpage using requests module\n",
    "*   Scrape all links from a web page\n",
    "*   Scrape all image urls from a web page\n",
    "*   Scrape data from html tables\n"
   ]
  },
  {
   "cell_type": "markdown",
   "metadata": {},
   "source": [
    "## Scrape [www.ibm.com](http://www.ibm.com/?utm_medium=Exinfluencer&utm_source=Exinfluencer&utm_content=000026UJ&utm_term=10006555&utm_id=NA-SkillsNetwork-Channel-SkillsNetworkCoursesIBMDA0321ENSkillsNetwork21426264-2021-01-01)\n"
   ]
  },
  {
   "cell_type": "markdown",
   "metadata": {},
   "source": [
    "Import the required modules and functions\n"
   ]
  },
  {
   "cell_type": "code",
   "execution_count": 2,
   "metadata": {},
   "outputs": [
    {
     "name": "stdout",
     "output_type": "stream",
     "text": [
      "Collecting bs4\n",
      "  Downloading bs4-0.0.1.tar.gz (1.1 kB)\n",
      "  Preparing metadata (setup.py) ... \u001b[?25ldone\n",
      "\u001b[?25hCollecting beautifulsoup4\n",
      "  Downloading beautifulsoup4-4.10.0-py3-none-any.whl (97 kB)\n",
      "\u001b[2K     \u001b[90m━━━━━━━━━━━━━━━━━━━━━━━━━━━━━━━━━━━━━━━━\u001b[0m \u001b[32m97.4/97.4 KB\u001b[0m \u001b[31m15.6 MB/s\u001b[0m eta \u001b[36m0:00:00\u001b[0m\n",
      "\u001b[?25hCollecting soupsieve>1.2\n",
      "  Downloading soupsieve-2.3.1-py3-none-any.whl (37 kB)\n",
      "Building wheels for collected packages: bs4\n",
      "  Building wheel for bs4 (setup.py) ... \u001b[?25ldone\n",
      "\u001b[?25h  Created wheel for bs4: filename=bs4-0.0.1-py3-none-any.whl size=1272 sha256=aa423853e08c66029c2df5f684347a3963457b732e515fc2b9bd8f4ae040cc50\n",
      "  Stored in directory: /home/jupyterlab/.cache/pip/wheels/0a/9e/ba/20e5bbc1afef3a491f0b3bb74d508f99403aabe76eda2167ca\n",
      "Successfully built bs4\n",
      "Installing collected packages: soupsieve, beautifulsoup4, bs4\n",
      "Successfully installed beautifulsoup4-4.10.0 bs4-0.0.1 soupsieve-2.3.1\n"
     ]
    }
   ],
   "source": [
    "\n",
    "!pip install bs4\n",
    "from bs4 import BeautifulSoup # this module helps in web scrapping.\n",
    "import requests  # this module helps us to download a web page"
   ]
  },
  {
   "cell_type": "markdown",
   "metadata": {},
   "source": [
    "Download the contents of the web page\n"
   ]
  },
  {
   "cell_type": "code",
   "execution_count": 34,
   "metadata": {},
   "outputs": [],
   "source": [
    "url = \"http://www.ibm.com\""
   ]
  },
  {
   "cell_type": "code",
   "execution_count": 35,
   "metadata": {},
   "outputs": [],
   "source": [
    "# get the contents of the webpage in text format and store in a variable called data\n",
    "data  = requests.get(url).text "
   ]
  },
  {
   "cell_type": "markdown",
   "metadata": {},
   "source": [
    "Create a soup object using the class BeautifulSoup\n"
   ]
  },
  {
   "cell_type": "code",
   "execution_count": 36,
   "metadata": {},
   "outputs": [],
   "source": [
    "soup = BeautifulSoup(data,\"html.parser\")  # create a soup object using the variable 'data'"
   ]
  },
  {
   "cell_type": "markdown",
   "metadata": {},
   "source": [
    "Scrape all links\n"
   ]
  },
  {
   "cell_type": "code",
   "execution_count": 37,
   "metadata": {},
   "outputs": [
    {
     "name": "stdout",
     "output_type": "stream",
     "text": [
      "#main-content\n",
      "http://www.ibm.com\n",
      "https://www.ibm.com/analytics/data-fabric/?lnk=ushpv18l1\n",
      "None\n",
      "#ibm-tech-section\n",
      "https://www.ibm.com/consulting/?lnk=ushpv18intro2\n",
      "None\n",
      "https://research.ibm.com/blog/whats-next-iwd-panel?lnk=ushpv18r1\n",
      "https://research.ibm.com/blog/whats-next-iwd-panel?lnk=ushpv18r1\n",
      "https://research.ibm.com/blog/generative-models-toolkit-for-scientific-discovery?lnk=ushpv18r2\n",
      "https://www.ibm.com/quantum-computing/developers/?lnk=ushpv18r3\n",
      "https://research.ibm.com/blog/ai-explains-ibd-drug-treatment?lnk=ushpv18r4\n",
      "None\n",
      "https://www.ibm.com/products/zcx-openshift?lnk=ushpv18f1\n",
      "http://www.ibm.com/it-infrastructure/z?lnk=ushpv18f2\n",
      "https://www.ibm.com/products/flexera-one?lnk=ushpv18f3\n",
      "https://www.ibm.com/thought-leadership/institute-business-value/report/women-leadership-2021?lnk=ushpv18f4\n",
      "None\n",
      "https://www.ibm.com/case-studies/search?lnk=ushpv18mAll\n",
      "https://www.ibm.com/case-studies/vivy/?lnk=ushpv18m1\n",
      "https://www.ibm.com/case-studies/commercial-international-bank/?lnk=ushpv18m2\n",
      "https://www.ibm.com/case-studies/wichita-state-university/?lnk=ushpv18m3\n",
      "None\n",
      "https://www.ibm.com/products?types[0]=trial&lnk=STW_US_MPDISC_BNR_BTN&lnk2=THP&lnk3=ushpv18tAll\n",
      "https://www.ibm.com/products/offers-and-discounts?link=ushpv18t5&lnk2=trial_mktpl_MPDISC\n",
      "https://www.ibm.com/products/hosted-security-intelligence?lnk=ushpv18t1&lnk2=trial_QRadarCloud&psrc=none&pexp=def\n",
      "https://www.ibm.com/cloud/watson-discovery?lnk=ushpv18t2&lnk2=trial_WatDiscovery&psrc=none&pexp=def\n",
      "https://www.ibm.com/cloud/free?lnk=ushpv18t3&lnk2=trial_Cloud&psrc=none&pexp=def\n",
      "https://www.ibm.com/search?lnk=ushpv18srch&locale=en-us&q=\n",
      "https://www.ibm.com/products?lnk=ushpv18p1&lnk2=trial_mktpl&psrc=none&pexp=def\n",
      "https://www.ibm.com/cloud/hybrid?lnk=ushpv18pt14\n",
      "https://www.ibm.com/watson?lnk=ushpv18pt17\n",
      "https://www.ibm.com/it-infrastructure?lnk=ushpv18pt19\n",
      "https://www.ibm.com/blockchain?lnk=ushpv18pt4\n",
      "https://www.ibm.com/security/products?lnk=ushpv18pt9\n",
      "https://www.ibm.com/analytics/products?lnk=ushpv18pt1\n",
      "https://www.ibm.com/cloud/automation?lnk=ushpv18ct21\n",
      "https://www.ibm.com/quantum-computing?lnk=ushpv18pt16\n",
      "https://www.ibm.com/mysupport/s/?language=en_US&lnk=ushpv18ct11\n",
      "https://www.ibm.com/training/?lnk=ushpv18ct15\n",
      "https://community.ibm.com/community/user/home/?lnk=ushpv18ct20\n",
      "https://developer.ibm.com/?lnk=ushpv18ct9\n",
      "https://www.ibm.com/garage?lnk=ushpv18pt18\n",
      "https://www.ibm.com/docs/en?lnk=ushpv18ct14\n",
      "https://www.redbooks.ibm.com/?lnk=ushpv18ct10\n",
      "https://www-03.ibm.com/employment/technicaltalent/developer/?lnk=ushpv18ct2\n",
      "https://www.ibm.com/\n"
     ]
    }
   ],
   "source": [
    "for link in soup.find_all('a'):  # in html anchor/link is represented by the tag <a>\n",
    "    print(link.get('href'))"
   ]
  },
  {
   "cell_type": "markdown",
   "metadata": {},
   "source": [
    "Scrape  all images\n"
   ]
  },
  {
   "cell_type": "code",
   "execution_count": 39,
   "metadata": {},
   "outputs": [
    {
     "name": "stdout",
     "output_type": "stream",
     "text": [
      "data:image/svg+xml;base64,PHN2ZyB3aWR0aD0iMTA1NSIgaGVpZ2h0PSI1MjcuNSIgeG1sbnM9Imh0dHA6Ly93d3cudzMub3JnLzIwMDAvc3ZnIiB2ZXJzaW9uPSIxLjEiLz4=\n",
      "https://1.dam.s81c.com/public/content/dam/worldwide-content/homepage/ul/g/1a/b4/2022031-ls-data-driven-mobile-720x360.png\n",
      "https://1.dam.s81c.com/public/content/dam/worldwide-content/homepage/ul/g/ad/de/20220315-r-STEM-gender-gap-1600x900.jpg\n",
      "https://1.dam.s81c.com/public/content/dam/worldwide-content/homepage/ul/g/29/10/20220321-r-generative-model-toolkit-26509-800x450.png\n",
      "https://1.dam.s81c.com/public/content/dam/worldwide-content/homepage/ul/g/0e/10/20220321-r-quantum-for-developers-800x450.jpg\n",
      "https://1.dam.s81c.com/public/content/dam/worldwide-content/homepage/ul/g/91/89/20220314-r-ai-and-ibd-treatment-26491-800x450.jpg\n",
      "https://1.dam.s81c.com/public/content/dam/worldwide-content/homepage/ul/g/c1/06/20220314-26475-zCX-Foundation-444x320.jpg\n",
      "https://1.dam.s81c.com/public/content/dam/worldwide-content/homepage/ul/g/47/f0/20220321-f-ibm-z-april-launch-444x320-26381.jpg\n",
      "https://1.dam.s81c.com/public/content/dam/worldwide-content/homepage/ul/g/fa/4b/20220314-26443-Flexera-One-GA-444x320.jpg\n",
      "https://1.dam.s81c.com/public/content/dam/worldwide-content/homepage/ul/g/a0/96/20220321-f-ibv-women-leadership-444x320-26381.jpg\n",
      "https://1.dam.s81c.com/public/content/dam/worldwide-content/homepage/ul/g/81/60/20220321-m-vivy-1600x900-26519.jpg\n",
      "https://1.dam.s81c.com/public/content/dam/worldwide-content/homepage/ul/g/8a/7a/20220314-26474-Commercial-International-Bank-1600x900.jpg\n",
      "https://1.dam.s81c.com/public/content/dam/worldwide-content/homepage/ul/g/f0/e3/20220307-WSU-26463-1600x900.jpg\n",
      "https://1.dam.s81c.com/public/content/dam/worldwide-content/homepage/ul/g/eb/f1/QRadar-on-cloud-trial-800x450.jpg\n",
      "https://1.dam.s81c.com/public/content/dam/worldwide-content/homepage/ul/g/cb/3f/Watson-Discovery-trial-800x450.jpg\n",
      "https://1.dam.s81c.com/public/content/dam/worldwide-content/homepage/ul/g/91/5f/IBM-Cloud-trial-800x450.jpg\n"
     ]
    }
   ],
   "source": [
    "image= soup.find_all('img')\n",
    "for link in image:# in html image is represented by the tag <img>\n",
    "    print(link.get('src'))"
   ]
  },
  {
   "cell_type": "markdown",
   "metadata": {},
   "source": [
    "## Scrape data from html tables\n"
   ]
  },
  {
   "cell_type": "code",
   "execution_count": null,
   "metadata": {},
   "outputs": [],
   "source": [
    "#The below url contains a html table with data about colors and color codes."
   ]
  },
  {
   "cell_type": "code",
   "execution_count": 40,
   "metadata": {},
   "outputs": [],
   "source": [
    "url = \"https://cf-courses-data.s3.us.cloud-object-storage.appdomain.cloud/IBM-DA0321EN-SkillsNetwork/labs/datasets/HTMLColorCodes.html\""
   ]
  },
  {
   "cell_type": "markdown",
   "metadata": {},
   "source": [
    "Before proceeding to scrape a web site, you need to examine the contents, and the way data is organized on the website. Open the above url in your browser and check how many rows and columns are there in the color table.\n"
   ]
  },
  {
   "cell_type": "code",
   "execution_count": 41,
   "metadata": {},
   "outputs": [],
   "source": [
    "# get the contents of the webpage in text format and store in a variable called data\n",
    "data  = requests.get(url).text"
   ]
  },
  {
   "cell_type": "code",
   "execution_count": 42,
   "metadata": {},
   "outputs": [],
   "source": [
    "soup = BeautifulSoup(data,\"html.parser\")"
   ]
  },
  {
   "cell_type": "code",
   "execution_count": 43,
   "metadata": {},
   "outputs": [],
   "source": [
    "#find a html table in the web page\n",
    "table = soup.find('table') # in html table is represented by the tag <table>\n"
   ]
  },
  {
   "cell_type": "code",
   "execution_count": 53,
   "metadata": {},
   "outputs": [
    {
     "name": "stdout",
     "output_type": "stream",
     "text": [
      "decimal code for Color Name  is  Decimal Code(R,G,B)\n",
      "decimal code for lightsalmon  is  rgb(255,160,122)\n",
      "decimal code for salmon  is  rgb(250,128,114)\n",
      "decimal code for darksalmon  is  rgb(233,150,122)\n",
      "decimal code for lightcoral  is  rgb(240,128,128)\n",
      "decimal code for coral  is  rgb(255,127,80)\n",
      "decimal code for tomato  is  rgb(255,99,71)\n",
      "decimal code for orangered  is  rgb(255,69,0)\n",
      "decimal code for gold  is  rgb(255,215,0)\n",
      "decimal code for orange  is  rgb(255,165,0)\n",
      "decimal code for darkorange  is  rgb(255,140,0)\n",
      "decimal code for lightyellow  is  rgb(255,255,224)\n",
      "decimal code for lemonchiffon  is  rgb(255,250,205)\n",
      "decimal code for papayawhip  is  rgb(255,239,213)\n",
      "decimal code for moccasin  is  rgb(255,228,181)\n",
      "decimal code for peachpuff  is  rgb(255,218,185)\n",
      "decimal code for palegoldenrod  is  rgb(238,232,170)\n",
      "decimal code for khaki  is  rgb(240,230,140)\n",
      "decimal code for darkkhaki  is  rgb(189,183,107)\n",
      "decimal code for yellow  is  rgb(255,255,0)\n",
      "decimal code for lawngreen  is  rgb(124,252,0)\n",
      "decimal code for chartreuse  is  rgb(127,255,0)\n",
      "decimal code for limegreen  is  rgb(50,205,50)\n",
      "decimal code for lime  is  rgb(0.255.0)\n",
      "decimal code for forestgreen  is  rgb(34,139,34)\n",
      "decimal code for green  is  rgb(0,128,0)\n",
      "decimal code for powderblue  is  rgb(176,224,230)\n",
      "decimal code for lightblue  is  rgb(173,216,230)\n",
      "decimal code for lightskyblue  is  rgb(135,206,250)\n",
      "decimal code for skyblue  is  rgb(135,206,235)\n",
      "decimal code for deepskyblue  is  rgb(0,191,255)\n",
      "decimal code for lightsteelblue  is  rgb(176,196,222)\n",
      "decimal code for dodgerblue  is  rgb(30,144,255)\n"
     ]
    }
   ],
   "source": [
    "#Get all rows from the table\n",
    "\"\"\"\n",
    "for row in table.find_all('tr'): # in html table row is represented by the tag <tr>\n",
    "    # Get all columns in each row.\n",
    "    cols = row.find_all('td') # in html a column is represented by the tag <td>\n",
    "    color_name = cols[2].getText() # store the value in column 3 as color_name\n",
    "    color_code = cols[3].getText() # store the value in column 4 as color_code\n",
    "    print(\"{}--->{}\".format(color_name,color_code))\"\"\"\n",
    "    \n",
    "\n",
    "data  = requests.get(url).text\n",
    "soup = BeautifulSoup(data,\"html.parser\")\n",
    "\n",
    "#find a html table in the web page\n",
    "table = soup.find('table') # in html table is represented by the tag <table>\n",
    "\n",
    "for link in table.find_all('tr'):# in html image is represented by the tag <img>\n",
    "    a=link.find_all('td')\n",
    "    color = a[2].getText()\n",
    "    decimal_code =a[4].getText()\n",
    "    #print(link.getText())\n",
    "    print(f'decimal code for {color}  is  {decimal_code}')\n",
    "        \n",
    "    "
   ]
  },
  {
   "cell_type": "markdown",
   "metadata": {},
   "source": [
    "## Authors\n"
   ]
  },
  {
   "cell_type": "markdown",
   "metadata": {},
   "source": [
    "Ramesh Sannareddy\n"
   ]
  },
  {
   "cell_type": "markdown",
   "metadata": {},
   "source": [
    "### Other Contributors\n"
   ]
  },
  {
   "cell_type": "markdown",
   "metadata": {},
   "source": [
    "Rav Ahuja\n"
   ]
  },
  {
   "cell_type": "markdown",
   "metadata": {},
   "source": [
    "## Change Log\n"
   ]
  },
  {
   "cell_type": "markdown",
   "metadata": {},
   "source": [
    "| Date (YYYY-MM-DD) | Version | Changed By        | Change Description                 |\n",
    "| ----------------- | ------- | ----------------- | ---------------------------------- |\n",
    "| 2020-10-17        | 0.1     | Ramesh Sannareddy | Created initial version of the lab |\n"
   ]
  },
  {
   "cell_type": "markdown",
   "metadata": {},
   "source": [
    "Copyright © 2020 IBM Corporation. This notebook and its source code are released under the terms of the [MIT License](https://cognitiveclass.ai/mit-license/?utm_medium=Exinfluencer&utm_source=Exinfluencer&utm_content=000026UJ&utm_term=10006555&utm_id=NA-SkillsNetwork-Channel-SkillsNetworkCoursesIBMDA0321ENSkillsNetwork21426264-2021-01-01).\n"
   ]
  }
 ],
 "metadata": {
  "kernelspec": {
   "display_name": "Python",
   "language": "python",
   "name": "conda-env-python-py"
  },
  "language_info": {
   "codemirror_mode": {
    "name": "ipython",
    "version": 3
   },
   "file_extension": ".py",
   "mimetype": "text/x-python",
   "name": "python",
   "nbconvert_exporter": "python",
   "pygments_lexer": "ipython3",
   "version": "3.7.12"
  }
 },
 "nbformat": 4,
 "nbformat_minor": 4
}
